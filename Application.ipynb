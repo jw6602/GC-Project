{
 "cells": [
  {
   "cell_type": "code",
   "execution_count": 1,
   "metadata": {},
   "outputs": [],
   "source": [
    "import numpy as np\n",
    "import pandas as pd\n",
    "import networkx as nx\n",
    "from PMFG import PMFG"
   ]
  },
  {
   "cell_type": "code",
   "execution_count": null,
   "metadata": {},
   "outputs": [],
   "source": [
    "raw_asset_prices_df = pd.read_csv(\"IVV_historical.csv\", index_col='Date')\n",
    "log_returns_df = np.log(raw_asset_prices_df).diff().dropna()\n",
    "# drop first row of raw prices so it has the same dimensions as the log-returns DF\n",
    "raw_asset_prices_df = raw_asset_prices_df.iloc[1:]\n",
    "\n",
    "df_shape = (raw_asset_prices_df.shape)\n",
    "print(f\"There are {df_shape[0]} rows and {df_shape[1]} columns in the dataset.\")\n",
    "print(f\"Data timeperiod covers: {raw_asset_prices_df.index[0]} to {raw_asset_prices_df.index[-1]}\")\n",
    "\n",
    "raw_asset_prices_df.head()"
   ]
  },
  {
   "cell_type": "code",
   "execution_count": null,
   "metadata": {},
   "outputs": [],
   "source": [
    "raw_corr = log_returns_df.corr()\n",
    "\n",
    "shr_coef = 1e-4\n",
    "#shr_target=np.ones((df_shape[1], df_shape[1]))\n",
    "shr_target=np.eye(df_shape[1])\n",
    "\n",
    "correlation_matrix = raw_corr*(1-shr_coef) + shr_target*shr_coef\n",
    "print('Condition number of sample correlation matrix: %.2e' %np.linalg.cond(raw_corr))\n",
    "print('Condition number of shrunk correlation matrix: %.2e' %np.linalg.cond(correlation_matrix))\n",
    "correlation_matrix.head()"
   ]
  },
  {
   "cell_type": "code",
   "execution_count": null,
   "metadata": {},
   "outputs": [],
   "source": [
    "G = nx.Graph()\n",
    "nodes_list = correlation_matrix.columns.values.tolist()\n",
    "\n",
    "for i in range(len(nodes_list)):\n",
    "    G.add_node(nodes_list[i])\n",
    "\n",
    "for i in range(len(nodes_list)):\n",
    "    for j in range(i+1, len(nodes_list)):\n",
    "        G.add_edge(nodes_list[i], nodes_list[j], weight=correlation_matrix.iloc[i,j])"
   ]
  },
  {
   "cell_type": "code",
   "execution_count": null,
   "metadata": {},
   "outputs": [],
   "source": [
    "test = PMFG(G)\n",
    "test.compute()"
   ]
  }
 ],
 "metadata": {
  "interpreter": {
   "hash": "31f2aee4e71d21fbe5cf8b01ff0e069b9275f58929596ceb00d14d90e3e16cd6"
  },
  "kernelspec": {
   "display_name": "Python 3.9.1 64-bit",
   "name": "python3"
  },
  "language_info": {
   "codemirror_mode": {
    "name": "ipython",
    "version": 3
   },
   "file_extension": ".py",
   "mimetype": "text/x-python",
   "name": "python",
   "nbconvert_exporter": "python",
   "pygments_lexer": "ipython3",
   "version": "3.9.1"
  },
  "orig_nbformat": 4
 },
 "nbformat": 4,
 "nbformat_minor": 2
}
