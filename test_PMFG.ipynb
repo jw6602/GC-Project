{
 "cells": [
  {
   "cell_type": "markdown",
   "metadata": {},
   "source": [
    "# Test PMFG\n"
   ]
  },
  {
   "cell_type": "code",
   "execution_count": 1,
   "metadata": {},
   "outputs": [],
   "source": [
    "import numpy as np\n",
    "import pandas as pd\n",
    "import networkx as nx\n",
    "\n",
    "from time import time\n",
    "import timeit\n",
    "\n",
    "from PMFG import PMFG\n",
    "#%matplotlib inline\n",
    "import matplotlib.pyplot as plt"
   ]
  },
  {
   "cell_type": "markdown",
   "metadata": {},
   "source": [
    "## Importing data\n",
    "\n",
    "More rows than columns; not good. Collecting a more tick data of the same stocks is trivial, but for now we'll work with this dataset."
   ]
  },
  {
   "cell_type": "code",
   "execution_count": 2,
   "metadata": {},
   "outputs": [
    {
     "name": "stdout",
     "output_type": "stream",
     "text": [
      "There are 251 rows and 504 columns in the dataset.\n",
      "Data timeperiod covers: 2020/6/22 to 2021/6/18\n"
     ]
    },
    {
     "data": {
      "text/html": [
       "<div>\n",
       "<style scoped>\n",
       "    .dataframe tbody tr th:only-of-type {\n",
       "        vertical-align: middle;\n",
       "    }\n",
       "\n",
       "    .dataframe tbody tr th {\n",
       "        vertical-align: top;\n",
       "    }\n",
       "\n",
       "    .dataframe thead th {\n",
       "        text-align: right;\n",
       "    }\n",
       "</style>\n",
       "<table border=\"1\" class=\"dataframe\">\n",
       "  <thead>\n",
       "    <tr style=\"text-align: right;\">\n",
       "      <th></th>\n",
       "      <th>AAPL</th>\n",
       "      <th>MSFT</th>\n",
       "      <th>AMZN</th>\n",
       "      <th>FB</th>\n",
       "      <th>GOOGL</th>\n",
       "      <th>GOOG</th>\n",
       "      <th>JPM</th>\n",
       "      <th>TSLA</th>\n",
       "      <th>JNJ</th>\n",
       "      <th>UNH</th>\n",
       "      <th>...</th>\n",
       "      <th>UNM</th>\n",
       "      <th>NOV</th>\n",
       "      <th>PRGO</th>\n",
       "      <th>RL</th>\n",
       "      <th>FOX</th>\n",
       "      <th>DISCA</th>\n",
       "      <th>HFC</th>\n",
       "      <th>UAA</th>\n",
       "      <th>UA</th>\n",
       "      <th>NWS</th>\n",
       "    </tr>\n",
       "    <tr>\n",
       "      <th>Date</th>\n",
       "      <th></th>\n",
       "      <th></th>\n",
       "      <th></th>\n",
       "      <th></th>\n",
       "      <th></th>\n",
       "      <th></th>\n",
       "      <th></th>\n",
       "      <th></th>\n",
       "      <th></th>\n",
       "      <th></th>\n",
       "      <th></th>\n",
       "      <th></th>\n",
       "      <th></th>\n",
       "      <th></th>\n",
       "      <th></th>\n",
       "      <th></th>\n",
       "      <th></th>\n",
       "      <th></th>\n",
       "      <th></th>\n",
       "      <th></th>\n",
       "      <th></th>\n",
       "    </tr>\n",
       "  </thead>\n",
       "  <tbody>\n",
       "    <tr>\n",
       "      <th>2020/6/22</th>\n",
       "      <td>0.025827</td>\n",
       "      <td>0.027395</td>\n",
       "      <td>0.014404</td>\n",
       "      <td>0.001799</td>\n",
       "      <td>0.018099</td>\n",
       "      <td>0.013969</td>\n",
       "      <td>-0.010896</td>\n",
       "      <td>-0.006596</td>\n",
       "      <td>-0.003064</td>\n",
       "      <td>0.004898</td>\n",
       "      <td>...</td>\n",
       "      <td>-0.004257</td>\n",
       "      <td>0.005945</td>\n",
       "      <td>0.005634</td>\n",
       "      <td>0.026948</td>\n",
       "      <td>-0.007939</td>\n",
       "      <td>-0.014094</td>\n",
       "      <td>-0.015945</td>\n",
       "      <td>0.000000</td>\n",
       "      <td>-0.002328</td>\n",
       "      <td>0.009217</td>\n",
       "    </tr>\n",
       "    <tr>\n",
       "      <th>2020/6/23</th>\n",
       "      <td>0.021120</td>\n",
       "      <td>0.006659</td>\n",
       "      <td>0.018470</td>\n",
       "      <td>0.012545</td>\n",
       "      <td>0.009140</td>\n",
       "      <td>0.008607</td>\n",
       "      <td>0.012123</td>\n",
       "      <td>0.007475</td>\n",
       "      <td>-0.003703</td>\n",
       "      <td>0.016705</td>\n",
       "      <td>...</td>\n",
       "      <td>0.000609</td>\n",
       "      <td>0.026735</td>\n",
       "      <td>-0.001995</td>\n",
       "      <td>0.001635</td>\n",
       "      <td>0.007580</td>\n",
       "      <td>0.014546</td>\n",
       "      <td>-0.007910</td>\n",
       "      <td>0.036142</td>\n",
       "      <td>0.039983</td>\n",
       "      <td>0.006650</td>\n",
       "    </tr>\n",
       "    <tr>\n",
       "      <th>2020/6/24</th>\n",
       "      <td>-0.017810</td>\n",
       "      <td>-0.020363</td>\n",
       "      <td>-0.010915</td>\n",
       "      <td>-0.034522</td>\n",
       "      <td>-0.021598</td>\n",
       "      <td>-0.022401</td>\n",
       "      <td>-0.033961</td>\n",
       "      <td>-0.041715</td>\n",
       "      <td>-0.021509</td>\n",
       "      <td>-0.028701</td>\n",
       "      <td>...</td>\n",
       "      <td>-0.057015</td>\n",
       "      <td>-0.080661</td>\n",
       "      <td>-0.020547</td>\n",
       "      <td>-0.039003</td>\n",
       "      <td>-0.029188</td>\n",
       "      <td>-0.020055</td>\n",
       "      <td>-0.062254</td>\n",
       "      <td>-0.040357</td>\n",
       "      <td>-0.039983</td>\n",
       "      <td>-0.031989</td>\n",
       "    </tr>\n",
       "    <tr>\n",
       "      <th>2020/6/25</th>\n",
       "      <td>0.013188</td>\n",
       "      <td>0.012557</td>\n",
       "      <td>0.007353</td>\n",
       "      <td>0.007068</td>\n",
       "      <td>0.005846</td>\n",
       "      <td>0.006515</td>\n",
       "      <td>0.034268</td>\n",
       "      <td>0.025818</td>\n",
       "      <td>-0.001073</td>\n",
       "      <td>0.024053</td>\n",
       "      <td>...</td>\n",
       "      <td>0.052743</td>\n",
       "      <td>0.093765</td>\n",
       "      <td>0.014354</td>\n",
       "      <td>-0.004682</td>\n",
       "      <td>-0.009673</td>\n",
       "      <td>-0.021406</td>\n",
       "      <td>0.002026</td>\n",
       "      <td>0.013634</td>\n",
       "      <td>0.010435</td>\n",
       "      <td>0.006820</td>\n",
       "    </tr>\n",
       "    <tr>\n",
       "      <th>2020/6/26</th>\n",
       "      <td>-0.031208</td>\n",
       "      <td>-0.020219</td>\n",
       "      <td>-0.022657</td>\n",
       "      <td>-0.086826</td>\n",
       "      <td>-0.056056</td>\n",
       "      <td>-0.058155</td>\n",
       "      <td>-0.056378</td>\n",
       "      <td>-0.026974</td>\n",
       "      <td>-0.013407</td>\n",
       "      <td>-0.032038</td>\n",
       "      <td>...</td>\n",
       "      <td>-0.052098</td>\n",
       "      <td>-0.008170</td>\n",
       "      <td>-0.014540</td>\n",
       "      <td>-0.037970</td>\n",
       "      <td>-0.038100</td>\n",
       "      <td>-0.048179</td>\n",
       "      <td>-0.049448</td>\n",
       "      <td>-0.052390</td>\n",
       "      <td>-0.048444</td>\n",
       "      <td>-0.019735</td>\n",
       "    </tr>\n",
       "  </tbody>\n",
       "</table>\n",
       "<p>5 rows × 504 columns</p>\n",
       "</div>"
      ],
      "text/plain": [
       "               AAPL      MSFT      AMZN        FB     GOOGL      GOOG  \\\n",
       "Date                                                                    \n",
       "2020/6/22  0.025827  0.027395  0.014404  0.001799  0.018099  0.013969   \n",
       "2020/6/23  0.021120  0.006659  0.018470  0.012545  0.009140  0.008607   \n",
       "2020/6/24 -0.017810 -0.020363 -0.010915 -0.034522 -0.021598 -0.022401   \n",
       "2020/6/25  0.013188  0.012557  0.007353  0.007068  0.005846  0.006515   \n",
       "2020/6/26 -0.031208 -0.020219 -0.022657 -0.086826 -0.056056 -0.058155   \n",
       "\n",
       "                JPM      TSLA       JNJ       UNH  ...       UNM       NOV  \\\n",
       "Date                                               ...                       \n",
       "2020/6/22 -0.010896 -0.006596 -0.003064  0.004898  ... -0.004257  0.005945   \n",
       "2020/6/23  0.012123  0.007475 -0.003703  0.016705  ...  0.000609  0.026735   \n",
       "2020/6/24 -0.033961 -0.041715 -0.021509 -0.028701  ... -0.057015 -0.080661   \n",
       "2020/6/25  0.034268  0.025818 -0.001073  0.024053  ...  0.052743  0.093765   \n",
       "2020/6/26 -0.056378 -0.026974 -0.013407 -0.032038  ... -0.052098 -0.008170   \n",
       "\n",
       "               PRGO        RL       FOX     DISCA       HFC       UAA  \\\n",
       "Date                                                                    \n",
       "2020/6/22  0.005634  0.026948 -0.007939 -0.014094 -0.015945  0.000000   \n",
       "2020/6/23 -0.001995  0.001635  0.007580  0.014546 -0.007910  0.036142   \n",
       "2020/6/24 -0.020547 -0.039003 -0.029188 -0.020055 -0.062254 -0.040357   \n",
       "2020/6/25  0.014354 -0.004682 -0.009673 -0.021406  0.002026  0.013634   \n",
       "2020/6/26 -0.014540 -0.037970 -0.038100 -0.048179 -0.049448 -0.052390   \n",
       "\n",
       "                 UA       NWS  \n",
       "Date                           \n",
       "2020/6/22 -0.002328  0.009217  \n",
       "2020/6/23  0.039983  0.006650  \n",
       "2020/6/24 -0.039983 -0.031989  \n",
       "2020/6/25  0.010435  0.006820  \n",
       "2020/6/26 -0.048444 -0.019735  \n",
       "\n",
       "[5 rows x 504 columns]"
      ]
     },
     "execution_count": 2,
     "metadata": {},
     "output_type": "execute_result"
    }
   ],
   "source": [
    "raw_asset_prices_df = pd.read_csv(\"IVV_historical.csv\", index_col='Date')\n",
    "log_returns_df = np.log(raw_asset_prices_df).diff().dropna()\n",
    "# drop first row of raw prices so it has the same dimensions as the log-returns DF\n",
    "raw_asset_prices_df = raw_asset_prices_df.iloc[1:]\n",
    "stock_names = log_returns_df.columns\n",
    "\n",
    "df_shape = (raw_asset_prices_df.shape)\n",
    "print(f\"There are {df_shape[0]} rows and {df_shape[1]} columns in the dataset.\")\n",
    "print(f\"Data timeperiod covers: {raw_asset_prices_df.index[0]} to {raw_asset_prices_df.index[-1]}\")\n",
    "\n",
    "log_returns_df.head()"
   ]
  },
  {
   "cell_type": "markdown",
   "metadata": {},
   "source": [
    "## Construct correlation matrix\n",
    "Simple rolling window corr with shrinkage."
   ]
  },
  {
   "cell_type": "code",
   "execution_count": 3,
   "metadata": {},
   "outputs": [
    {
     "name": "stdout",
     "output_type": "stream",
     "text": [
      "Condition number of sample correlation matrix: 1.13e+19\n",
      "Condition number of shrunk correlation matrix: 1.49e+06\n"
     ]
    },
    {
     "data": {
      "text/html": [
       "<div>\n",
       "<style scoped>\n",
       "    .dataframe tbody tr th:only-of-type {\n",
       "        vertical-align: middle;\n",
       "    }\n",
       "\n",
       "    .dataframe tbody tr th {\n",
       "        vertical-align: top;\n",
       "    }\n",
       "\n",
       "    .dataframe thead th {\n",
       "        text-align: right;\n",
       "    }\n",
       "</style>\n",
       "<table border=\"1\" class=\"dataframe\">\n",
       "  <thead>\n",
       "    <tr style=\"text-align: right;\">\n",
       "      <th></th>\n",
       "      <th>AAPL</th>\n",
       "      <th>MSFT</th>\n",
       "      <th>AMZN</th>\n",
       "      <th>FB</th>\n",
       "      <th>GOOGL</th>\n",
       "      <th>GOOG</th>\n",
       "      <th>JPM</th>\n",
       "      <th>TSLA</th>\n",
       "      <th>JNJ</th>\n",
       "      <th>UNH</th>\n",
       "      <th>...</th>\n",
       "      <th>UNM</th>\n",
       "      <th>NOV</th>\n",
       "      <th>PRGO</th>\n",
       "      <th>RL</th>\n",
       "      <th>FOX</th>\n",
       "      <th>DISCA</th>\n",
       "      <th>HFC</th>\n",
       "      <th>UAA</th>\n",
       "      <th>UA</th>\n",
       "      <th>NWS</th>\n",
       "    </tr>\n",
       "  </thead>\n",
       "  <tbody>\n",
       "    <tr>\n",
       "      <th>AAPL</th>\n",
       "      <td>1.000000</td>\n",
       "      <td>0.694200</td>\n",
       "      <td>0.691205</td>\n",
       "      <td>0.634493</td>\n",
       "      <td>0.522702</td>\n",
       "      <td>0.512583</td>\n",
       "      <td>0.029423</td>\n",
       "      <td>0.492938</td>\n",
       "      <td>0.220624</td>\n",
       "      <td>0.205805</td>\n",
       "      <td>...</td>\n",
       "      <td>0.025386</td>\n",
       "      <td>-0.016511</td>\n",
       "      <td>0.115755</td>\n",
       "      <td>-0.015630</td>\n",
       "      <td>0.113051</td>\n",
       "      <td>0.024639</td>\n",
       "      <td>0.014589</td>\n",
       "      <td>-0.048178</td>\n",
       "      <td>-0.046476</td>\n",
       "      <td>0.174052</td>\n",
       "    </tr>\n",
       "    <tr>\n",
       "      <th>MSFT</th>\n",
       "      <td>0.694200</td>\n",
       "      <td>1.000000</td>\n",
       "      <td>0.741015</td>\n",
       "      <td>0.608564</td>\n",
       "      <td>0.717165</td>\n",
       "      <td>0.705709</td>\n",
       "      <td>0.040791</td>\n",
       "      <td>0.500559</td>\n",
       "      <td>0.284647</td>\n",
       "      <td>0.324833</td>\n",
       "      <td>...</td>\n",
       "      <td>-0.011969</td>\n",
       "      <td>-0.025407</td>\n",
       "      <td>0.099012</td>\n",
       "      <td>-0.058433</td>\n",
       "      <td>0.072387</td>\n",
       "      <td>-0.047254</td>\n",
       "      <td>-0.014123</td>\n",
       "      <td>-0.063651</td>\n",
       "      <td>-0.067568</td>\n",
       "      <td>0.198791</td>\n",
       "    </tr>\n",
       "    <tr>\n",
       "      <th>AMZN</th>\n",
       "      <td>0.691205</td>\n",
       "      <td>0.741015</td>\n",
       "      <td>1.000000</td>\n",
       "      <td>0.688021</td>\n",
       "      <td>0.622603</td>\n",
       "      <td>0.626005</td>\n",
       "      <td>-0.070769</td>\n",
       "      <td>0.478916</td>\n",
       "      <td>0.109943</td>\n",
       "      <td>0.217174</td>\n",
       "      <td>...</td>\n",
       "      <td>-0.123943</td>\n",
       "      <td>-0.089610</td>\n",
       "      <td>-0.038883</td>\n",
       "      <td>-0.092398</td>\n",
       "      <td>0.002334</td>\n",
       "      <td>-0.070554</td>\n",
       "      <td>-0.108014</td>\n",
       "      <td>-0.055348</td>\n",
       "      <td>-0.060529</td>\n",
       "      <td>0.113214</td>\n",
       "    </tr>\n",
       "    <tr>\n",
       "      <th>FB</th>\n",
       "      <td>0.634493</td>\n",
       "      <td>0.608564</td>\n",
       "      <td>0.688021</td>\n",
       "      <td>1.000000</td>\n",
       "      <td>0.658567</td>\n",
       "      <td>0.657867</td>\n",
       "      <td>0.020714</td>\n",
       "      <td>0.349706</td>\n",
       "      <td>0.187031</td>\n",
       "      <td>0.319269</td>\n",
       "      <td>...</td>\n",
       "      <td>-0.031311</td>\n",
       "      <td>-0.046235</td>\n",
       "      <td>0.007846</td>\n",
       "      <td>-0.037580</td>\n",
       "      <td>0.074092</td>\n",
       "      <td>0.007478</td>\n",
       "      <td>-0.002316</td>\n",
       "      <td>0.010992</td>\n",
       "      <td>0.011035</td>\n",
       "      <td>0.176672</td>\n",
       "    </tr>\n",
       "    <tr>\n",
       "      <th>GOOGL</th>\n",
       "      <td>0.522702</td>\n",
       "      <td>0.717165</td>\n",
       "      <td>0.622603</td>\n",
       "      <td>0.658567</td>\n",
       "      <td>1.000000</td>\n",
       "      <td>0.993162</td>\n",
       "      <td>0.189587</td>\n",
       "      <td>0.377768</td>\n",
       "      <td>0.281600</td>\n",
       "      <td>0.377338</td>\n",
       "      <td>...</td>\n",
       "      <td>0.127267</td>\n",
       "      <td>0.168430</td>\n",
       "      <td>0.140180</td>\n",
       "      <td>0.083248</td>\n",
       "      <td>0.154922</td>\n",
       "      <td>0.043158</td>\n",
       "      <td>0.147497</td>\n",
       "      <td>0.181127</td>\n",
       "      <td>0.186247</td>\n",
       "      <td>0.266149</td>\n",
       "    </tr>\n",
       "  </tbody>\n",
       "</table>\n",
       "<p>5 rows × 504 columns</p>\n",
       "</div>"
      ],
      "text/plain": [
       "           AAPL      MSFT      AMZN        FB     GOOGL      GOOG       JPM  \\\n",
       "AAPL   1.000000  0.694200  0.691205  0.634493  0.522702  0.512583  0.029423   \n",
       "MSFT   0.694200  1.000000  0.741015  0.608564  0.717165  0.705709  0.040791   \n",
       "AMZN   0.691205  0.741015  1.000000  0.688021  0.622603  0.626005 -0.070769   \n",
       "FB     0.634493  0.608564  0.688021  1.000000  0.658567  0.657867  0.020714   \n",
       "GOOGL  0.522702  0.717165  0.622603  0.658567  1.000000  0.993162  0.189587   \n",
       "\n",
       "           TSLA       JNJ       UNH  ...       UNM       NOV      PRGO  \\\n",
       "AAPL   0.492938  0.220624  0.205805  ...  0.025386 -0.016511  0.115755   \n",
       "MSFT   0.500559  0.284647  0.324833  ... -0.011969 -0.025407  0.099012   \n",
       "AMZN   0.478916  0.109943  0.217174  ... -0.123943 -0.089610 -0.038883   \n",
       "FB     0.349706  0.187031  0.319269  ... -0.031311 -0.046235  0.007846   \n",
       "GOOGL  0.377768  0.281600  0.377338  ...  0.127267  0.168430  0.140180   \n",
       "\n",
       "             RL       FOX     DISCA       HFC       UAA        UA       NWS  \n",
       "AAPL  -0.015630  0.113051  0.024639  0.014589 -0.048178 -0.046476  0.174052  \n",
       "MSFT  -0.058433  0.072387 -0.047254 -0.014123 -0.063651 -0.067568  0.198791  \n",
       "AMZN  -0.092398  0.002334 -0.070554 -0.108014 -0.055348 -0.060529  0.113214  \n",
       "FB    -0.037580  0.074092  0.007478 -0.002316  0.010992  0.011035  0.176672  \n",
       "GOOGL  0.083248  0.154922  0.043158  0.147497  0.181127  0.186247  0.266149  \n",
       "\n",
       "[5 rows x 504 columns]"
      ]
     },
     "execution_count": 3,
     "metadata": {},
     "output_type": "execute_result"
    }
   ],
   "source": [
    "raw_corr = log_returns_df.corr()\n",
    "\n",
    "shr_coef = 1e-4\n",
    "#shr_target=np.ones((df_shape[1], df_shape[1]))\n",
    "shr_target=np.eye(df_shape[1])\n",
    "\n",
    "correlation_matrix = raw_corr*(1-shr_coef) + shr_target*shr_coef\n",
    "print('Condition number of sample correlation matrix: %.2e' %np.linalg.cond(raw_corr))\n",
    "print('Condition number of shrunk correlation matrix: %.2e' %np.linalg.cond(correlation_matrix))\n",
    "correlation_matrix.head()"
   ]
  },
  {
   "cell_type": "markdown",
   "metadata": {},
   "source": [
    "## Casting correlation values into edge weights"
   ]
  },
  {
   "cell_type": "code",
   "execution_count": 5,
   "metadata": {},
   "outputs": [
    {
     "name": "stdout",
     "output_type": "stream",
     "text": [
      "\n",
      "Sanity check: edge weights are non-binary...\n"
     ]
    },
    {
     "data": {
      "text/plain": [
       "0.694200351385983"
      ]
     },
     "execution_count": 5,
     "metadata": {},
     "output_type": "execute_result"
    }
   ],
   "source": [
    "# edges are weighted\n",
    "Gt1 = nx.from_pandas_adjacency(correlation_matrix-np.diag(np.diag(correlation_matrix)))\n",
    "#print(nx.info(Gt1))\n",
    "print('\\nSanity check: edge weights are non-binary...')\n",
    "nx.adjacency_matrix(Gt1)[0,1]"
   ]
  },
  {
   "cell_type": "markdown",
   "metadata": {},
   "source": [
    "## Graph Filtering"
   ]
  },
  {
   "cell_type": "code",
   "execution_count": 6,
   "metadata": {},
   "outputs": [],
   "source": [
    "timestamp = time()\n",
    "# G0_filtered = nx.minimum_spanning_tree(Gt1)\n",
    "G0_filtered = PMFG(G0_filtered).compute()"
   ]
  },
  {
   "cell_type": "code",
   "execution_count": null,
   "metadata": {},
   "outputs": [],
   "source": [
    "print('Time taken to construct the filtered graph: %.2f s' %(time()-timestamp))\n",
    "print(nx.info(G0_filtered))"
   ]
  },
  {
   "cell_type": "code",
   "execution_count": 7,
   "metadata": {},
   "outputs": [
    {
     "name": "stdout",
     "output_type": "stream",
     "text": [
      "Time taken to construct the filtered graph: 0.45 s\n",
      "Name: \n",
      "Type: Graph\n",
      "Number of nodes: 504\n",
      "Number of edges: 503\n",
      "Average degree:   1.9960\n"
     ]
    },
    {
     "data": {
      "text/plain": [
       "AtlasView({'PBCT': {'weight': -0.07949460871863029}})"
      ]
     },
     "execution_count": 7,
     "metadata": {},
     "output_type": "execute_result"
    }
   ],
   "source": [
    "# check that the filtered graph is weighted:\n",
    "#G0_filtered.edges('AAPL')\n",
    "print('\\nSanity check: edge weights are non-binary...')\n",
    "G0_filtered.adj['AAPL']"
   ]
  },
  {
   "cell_type": "markdown",
   "metadata": {},
   "source": [
    "## Centrality measures\n",
    "Centrality/peripherality measures: \n",
    "* degree \n",
    "* betweenness-centrality\n",
    "* eccentricity\n",
    "* closeness\n",
    "* eigenvector-centrality"
   ]
  },
  {
   "cell_type": "code",
   "execution_count": 8,
   "metadata": {},
   "outputs": [
    {
     "name": "stdout",
     "output_type": "stream",
     "text": [
      "Testing runtime for graph operations:\n",
      "\n",
      "\n",
      "Degree\n",
      "1.4 µs ± 209 ns per loop (mean ± std. dev. of 7 runs, 1000000 loops each)\n",
      "\n",
      "Betweenness Centrality\n",
      "821 ms ± 94.7 ms per loop (mean ± std. dev. of 7 runs, 1 loop each)\n",
      "\n",
      "Eccentricity\n",
      "267 ms ± 26.8 ms per loop (mean ± std. dev. of 7 runs, 1 loop each)\n",
      "\n",
      "Closeness\n",
      "288 ms ± 47.3 ms per loop (mean ± std. dev. of 7 runs, 1 loop each)\n",
      "\n",
      "Eigenvector Centrality\n",
      "77.1 ms ± 10.5 ms per loop (mean ± std. dev. of 7 runs, 10 loops each)\n",
      "Planarity (of original/dense graph)\n",
      "26.4 ms ± 340 µs per loop (mean ± std. dev. of 7 runs, 10 loops each)\n"
     ]
    }
   ],
   "source": [
    "print('Testing runtime for graph operations:')\n",
    "\n",
    "print('\\nDegree')\n",
    "%timeit nx.degree(G0_filtered)\n",
    "print('\\nBetweenness Centrality')\n",
    "%timeit nx.betweenness_centrality(G0_filtered)\n",
    "print('\\nEccentricity')\n",
    "%timeit nx.eccentricity(G0_filtered)\n",
    "print('\\nCloseness')\n",
    "%timeit nx.closeness_centrality(G0_filtered)\n",
    "print('\\nEigenvector Centrality')\n",
    "%timeit nx.eigenvector_centrality(G0_filtered)\n",
    "print('\\nPlanarity (of original/dense graph)')\n",
    "%timeit nx.check_planarity(G0_filtered)"
   ]
  },
  {
   "cell_type": "code",
   "execution_count": 9,
   "metadata": {},
   "outputs": [],
   "source": [
    "# unweighted degree\n",
    "#deg= pd.DataFrame.from_dict(dict(G0_filtered.degree), orient='index', columns = ['D'])\n",
    "# weighted degree, a.k.a. strength\n",
    "deg= pd.DataFrame.from_dict(dict(G0_filtered.degree(weight='weight')), orient='index', columns = ['D'])\n",
    "BC = pd.DataFrame.from_dict(nx.betweenness_centrality(G0_filtered), orient='index', columns = ['BC'])\n",
    "ecc= pd.DataFrame.from_dict(nx.eccentricity(G0_filtered), orient='index', columns = ['E'])\n",
    "clo= pd.DataFrame.from_dict(nx.closeness_centrality(G0_filtered), orient='index', columns = ['C'])\n",
    "EC = pd.DataFrame.from_dict(nx.eigenvector_centrality(G0_filtered), orient='index', columns = ['EC'])"
   ]
  },
  {
   "cell_type": "code",
   "execution_count": 10,
   "metadata": {},
   "outputs": [
    {
     "name": "stdout",
     "output_type": "stream",
     "text": [
      "              D   BC   E         C            EC\n",
      "AAPL  -0.079495  0.0  11  0.192868  2.913558e-05\n",
      "MSFT  -0.130235  0.0  11  0.192868  2.913558e-05\n",
      "AMZN  -0.238419  0.0  11  0.192868  2.913558e-05\n",
      "FB    -0.111662  0.0   9  0.221977  4.355697e-03\n",
      "GOOGL -0.024764  0.0  14  0.111530  1.602348e-07\n"
     ]
    }
   ],
   "source": [
    "#centralities_names = ['BC', 'C', 'D', 'E', 'EC']\n",
    "centralities_names = ['D', 'BC', 'E', 'C', 'EC']\n",
    "\n",
    "centralities = deg\n",
    "centralities['BC'] = BC\n",
    "centralities['E']  = ecc\n",
    "centralities['C']  = clo\n",
    "centralities['EC'] = EC\n",
    "print(centralities.head())"
   ]
  },
  {
   "cell_type": "code",
   "execution_count": 11,
   "metadata": {},
   "outputs": [
    {
     "data": {
      "text/html": [
       "<div>\n",
       "<style scoped>\n",
       "    .dataframe tbody tr th:only-of-type {\n",
       "        vertical-align: middle;\n",
       "    }\n",
       "\n",
       "    .dataframe tbody tr th {\n",
       "        vertical-align: top;\n",
       "    }\n",
       "\n",
       "    .dataframe thead th {\n",
       "        text-align: right;\n",
       "    }\n",
       "</style>\n",
       "<table border=\"1\" class=\"dataframe\">\n",
       "  <thead>\n",
       "    <tr style=\"text-align: right;\">\n",
       "      <th></th>\n",
       "      <th>D</th>\n",
       "      <th>BC</th>\n",
       "      <th>E</th>\n",
       "      <th>C</th>\n",
       "      <th>EC</th>\n",
       "    </tr>\n",
       "  </thead>\n",
       "  <tbody>\n",
       "    <tr>\n",
       "      <th>D</th>\n",
       "      <td>1.000000</td>\n",
       "      <td>-0.767071</td>\n",
       "      <td>0.104942</td>\n",
       "      <td>-0.177163</td>\n",
       "      <td>-0.752468</td>\n",
       "    </tr>\n",
       "    <tr>\n",
       "      <th>BC</th>\n",
       "      <td>-0.767071</td>\n",
       "      <td>1.000000</td>\n",
       "      <td>-0.099506</td>\n",
       "      <td>0.194557</td>\n",
       "      <td>0.485889</td>\n",
       "    </tr>\n",
       "    <tr>\n",
       "      <th>E</th>\n",
       "      <td>0.104942</td>\n",
       "      <td>-0.099506</td>\n",
       "      <td>1.000000</td>\n",
       "      <td>-0.950289</td>\n",
       "      <td>-0.530921</td>\n",
       "    </tr>\n",
       "    <tr>\n",
       "      <th>C</th>\n",
       "      <td>-0.177163</td>\n",
       "      <td>0.194557</td>\n",
       "      <td>-0.950289</td>\n",
       "      <td>1.000000</td>\n",
       "      <td>0.642150</td>\n",
       "    </tr>\n",
       "    <tr>\n",
       "      <th>EC</th>\n",
       "      <td>-0.752468</td>\n",
       "      <td>0.485889</td>\n",
       "      <td>-0.530921</td>\n",
       "      <td>0.642150</td>\n",
       "      <td>1.000000</td>\n",
       "    </tr>\n",
       "  </tbody>\n",
       "</table>\n",
       "</div>"
      ],
      "text/plain": [
       "           D        BC         E         C        EC\n",
       "D   1.000000 -0.767071  0.104942 -0.177163 -0.752468\n",
       "BC -0.767071  1.000000 -0.099506  0.194557  0.485889\n",
       "E   0.104942 -0.099506  1.000000 -0.950289 -0.530921\n",
       "C  -0.177163  0.194557 -0.950289  1.000000  0.642150\n",
       "EC -0.752468  0.485889 -0.530921  0.642150  1.000000"
      ]
     },
     "execution_count": 11,
     "metadata": {},
     "output_type": "execute_result"
    }
   ],
   "source": [
    "centralities.corr()"
   ]
  },
  {
   "cell_type": "code",
   "execution_count": 12,
   "metadata": {},
   "outputs": [
    {
     "data": {
      "image/png": "[encoded data removed]",
      "text/plain": [
       "<Figure size 864x2160 with 10 Axes>"
      ]
     },
     "metadata": {
      "needs_background": "light"
     },
     "output_type": "display_data"
    }
   ],
   "source": [
    "from itertools import combinations\n",
    "\n",
    "plot_len = 6\n",
    "plt.figure(figsize=(plot_len*2, plot_len*5))\n",
    "\n",
    "i=1\n",
    "for x,y in combinations(centralities_names, 2):\n",
    "    plt.subplot(5, 2, i)      #5C2 = 10\n",
    "    plt.scatter(centralities[x], centralities[y])\n",
    "    plt.title(x+' versus '+y)\n",
    "    plt.xlabel(x)\n",
    "    plt.ylabel(y)\n",
    "    i+=1"
   ]
  },
  {
   "cell_type": "code",
   "execution_count": 13,
   "metadata": {},
   "outputs": [
    {
     "name": "stdout",
     "output_type": "stream",
     "text": [
      "argmax node for each feature: \n",
      "D: EXC\n",
      "BC: CLX\n",
      "E: CSCO\n",
      "C: CLX\n",
      "EC: CLX\n"
     ]
    }
   ],
   "source": [
    "print('argmax node for each feature: ')\n",
    "for cen_measure in centralities_names:\n",
    "    print(cen_measure + ': ' + centralities[cen_measure].idxmax())"
   ]
  },
  {
   "cell_type": "markdown",
   "metadata": {},
   "source": [
    "## Use D/BC/E/C/EC as features for embedding"
   ]
  },
  {
   "cell_type": "code",
   "execution_count": 15,
   "metadata": {},
   "outputs": [
    {
     "name": "stdout",
     "output_type": "stream",
     "text": [
      "Explained variance by first two PCs:\n",
      "[0.58348603 0.31505639]\n",
      "First two PCs:\n",
      "['D', 'BC', 'E', 'C', 'EC']\n",
      "[[-0.42546521  0.37458201 -0.42101579  0.46486407  0.53414864]\n",
      " [-0.50872095  0.49043431  0.52677048 -0.46685523  0.07236184]]\n",
      "D : -0.425 | -0.509\n",
      "BC : 0.375 | 0.490\n",
      "E : -0.421 | 0.527\n",
      "C : 0.465 | -0.467\n",
      "EC : 0.534 | 0.072\n"
     ]
    },
    {
     "data": {
      "image/png": "[encoded data removed]",
      "text/plain": [
       "<Figure size 576x576 with 1 Axes>"
      ]
     },
     "metadata": {
      "needs_background": "light"
     },
     "output_type": "display_data"
    }
   ],
   "source": [
    "from sklearn.decomposition import PCA\n",
    "#from sklearn.manifold import TSNE\n",
    "from sklearn.preprocessing import scale\n",
    "\n",
    "# preprocess the data to have zero mean and unit var.\n",
    "# (or do i have to normalize by L2/L1?)\n",
    "cen = scale(centralities)\n",
    "pca = PCA(n_components=2)\n",
    "pca.fit(cen)\n",
    "\n",
    "print('Explained variance by first two PCs:')\n",
    "print(pca.explained_variance_ratio_)\n",
    "print('First two PCs:')\n",
    "print(centralities_names)\n",
    "print(pca.components_)\n",
    "\n",
    "for cname, pc1, pc2 in zip(centralities_names, pca.components_[0],  pca.components_[1]):\n",
    "    print(cname, ': %.3f | %.3f' %(pc1, pc2))\n",
    "    \n",
    "DR = pca.transform(cen)\n",
    "plt.figure(figsize=(8,8))\n",
    "plt.scatter(DR[:,0], DR[:,1]);"
   ]
  }
 ],
 "metadata": {
  "kernelspec": {
   "display_name": "Python 3",
   "language": "python",
   "name": "python3"
  },
  "language_info": {
   "codemirror_mode": {
    "name": "ipython",
    "version": 3
   },
   "file_extension": ".py",
   "mimetype": "text/x-python",
   "name": "python",
   "nbconvert_exporter": "python",
   "pygments_lexer": "ipython3",
   "version": "3.8.5"
  }
 },
 "nbformat": 4,
 "nbformat_minor": 4
}
